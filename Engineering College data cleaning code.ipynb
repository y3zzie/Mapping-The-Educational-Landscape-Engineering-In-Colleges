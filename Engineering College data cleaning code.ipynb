{
 "cells": [
  {
   "cell_type": "code",
   "execution_count": 1,
   "metadata": {},
   "outputs": [],
   "source": [
    "import re\n",
    "import numpy as np\n",
    "import pandas as pd\n",
    "import seaborn as sns\n",
    "import matplotlib.pyplot as plt\n",
    "from sklearn.impute import KNNImputer\n",
    "\n",
    "#Loading the data\n",
    "df = pd.read_csv('College_Data.csv')"
   ]
  },
  {
   "cell_type": "code",
   "execution_count": 171,
   "metadata": {},
   "outputs": [],
   "source": [
    "#Cleaning College Name\n",
    "def clean_college_name(college_name):\n",
    "    # Use regex to remove everything after the comma, including the comma itself\n",
    "    return college_name.split(',')[0]\n",
    "\n",
    "#Converting Fee to Integer\n",
    "def convert_fee_to_int(fee):\n",
    "    if fee is None or fee != fee:  # Check for NaN (because NaN != NaN in Python)\n",
    "        return None\n",
    "    \n",
    "    if isinstance(fee, str):\n",
    "        # Remove the rupee symbol (₹) and any leading/trailing whitespace\n",
    "        fee = fee.replace('₹', '').strip()\n",
    "        \n",
    "        # Handle the 'K' (thousands) and 'L' (lakh) cases\n",
    "        if 'K' in fee:\n",
    "            # Convert the remaining value to float and multiply by 1000 (thousands)\n",
    "            return int(float(fee.replace('K', '').strip()) * 1000)\n",
    "        elif 'L' in fee:\n",
    "            # Convert the remaining value to float and multiply by 100000 (lakh)\n",
    "            return int(float(fee.replace('L', '').strip()) * 100000)\n",
    "        else:\n",
    "            # If no 'K' or 'L', just convert the fee to an integer\n",
    "            return int(float(fee))  # This will ensure it’s an integer, even if there’s a decimal\n",
    "    elif isinstance(fee, (int, float)):\n",
    "        # If it's already a number, convert it to int\n",
    "        return int(fee)\n",
    "    else:\n",
    "        # Handle any other types, raise a ValueError if needed\n",
    "        raise ValueError(\"Invalid fee format\")"
   ]
  },
  {
   "cell_type": "code",
   "execution_count": 172,
   "metadata": {},
   "outputs": [],
   "source": [
    "#Appling clean-up functions\n",
    "df['College Name'] = df['College Name'].apply(clean_college_name)\n",
    "df['Location'] = df['Location'].str.lstrip(',')\n",
    "df['Location'] = df['Location'].replace('', np.nan)\n",
    "df['Location'] = df['Location'].fillna('Unknown')\n",
    "df['Fee Structure'] = df['Fee Structure'].apply(convert_fee_to_int)\n",
    "df['Seats'] = pd.to_numeric(df['Seats'], errors='coerce').astype('Int64')\n",
    "df['Facilities'] = df['Facilities'].str.lstrip(',')"
   ]
  },
  {
   "cell_type": "code",
   "execution_count": 173,
   "metadata": {},
   "outputs": [],
   "source": [
    "#Initializing the KNNImputer\n",
    "knn_imputer = KNNImputer(n_neighbors = 5)\n",
    "\n",
    "df[['Fee Structure', 'Seats']] = knn_imputer.fit_transform(df[['Fee Structure', 'Seats']])\n",
    "\n",
    "df['Seats'] = df['Seats'].astype(int)"
   ]
  },
  {
   "cell_type": "code",
   "execution_count": 174,
   "metadata": {},
   "outputs": [
    {
     "name": "stdout",
     "output_type": "stream",
     "text": [
      "College Name     0.0\n",
      "Location         0.0\n",
      "Courses          0.0\n",
      "Duration         0.0\n",
      "Fee Structure    0.0\n",
      "College Type     0.0\n",
      "Seats            0.0\n",
      "Facilities       0.0\n",
      "Rating           0.0\n",
      "dtype: float64\n"
     ]
    }
   ],
   "source": [
    "#Filling missing values for other columns\n",
    "df['Duration'] = df['Duration'].fillna(df['Duration'].mode()[0])\n",
    "df['Facilities'] = df['Facilities'].fillna(df['Facilities'].mode()[0])\n",
    "df['Rating'] = df['Rating'].fillna(df['Rating'].mode())[0]\n",
    "\n",
    "missing_percentage_after = df.isnull().mean() * 100\n",
    "print(missing_percentage_after)"
   ]
  },
  {
   "cell_type": "code",
   "execution_count": 175,
   "metadata": {},
   "outputs": [],
   "source": [
    "# Drop duplicates based on the specified columns\n",
    "df = df.drop_duplicates(subset=['College Name', 'Location', 'Courses', 'Duration', 'Fee Structure', \n",
    "                                'College Type', 'Seats', 'Facilities', 'Rating'], keep='first')\n"
   ]
  },
  {
   "cell_type": "code",
   "execution_count": 176,
   "metadata": {},
   "outputs": [
    {
     "data": {
      "image/png": "[encoded data removed]",
      "text/plain": [
       "<Figure size 1500x1000 with 2 Axes>"
      ]
     },
     "metadata": {},
     "output_type": "display_data"
    }
   ],
   "source": [
    "numeric_cols = df.select_dtypes(include=[np.number]).columns\n",
    "\n",
    "plt.figure(figsize=(15, 10))\n",
    "\n",
    "for i, col in enumerate(numeric_cols, 1):\n",
    "    plt.subplot(2, 3, i)\n",
    "    sns.boxplot(data=df, x=col)\n",
    "    plt.title(f'Box Plot of {col}')\n",
    "    plt.xlabel(col)\n",
    "\n",
    "plt.tight_layout()\n",
    "plt.show()"
   ]
  },
  {
   "cell_type": "code",
   "execution_count": 177,
   "metadata": {},
   "outputs": [],
   "source": [
    "#Format Fee Structure to look like currency (₹ 1,000,000)\n",
    "df['Fee Structure'] = df['Fee Structure'].apply(lambda x: '₹ {:,.0f}'.format(x))\n",
    "\n",
    "#Step 1: Extract unique college details (College Name, Location, Fee Structure, Seats, College Type)\n",
    "colleges_df = df[['College Name', 'Location', 'College Type']].drop_duplicates()\n",
    "\n",
    "#Step 2: Extract more-details\n",
    "courses_df = df[['College Name','Courses','Seats','Duration','Fee Structure','Facilities','Rating']]\n",
    "\n",
    "#Step 3: Written a code to save an Excel file (.xlsm) with different sheets\n",
    "with pd.ExcelWriter('normalized_data.xlsx', engine='openpyxl') as writer:\n",
    "    colleges_df.to_excel(writer, sheet_name='Colleges', index=False)\n",
    "    courses_df.to_excel(writer, sheet_name='Details', index=False)\n"
   ]
  },
  {
   "cell_type": "code",
   "execution_count": 178,
   "metadata": {},
   "outputs": [],
   "source": [
    "#To save a file in Excel sheet as a (.csv)\n",
    "df.to_csv('cleaned_data.csv', index=False, encoding='utf-8-sig')"
   ]
  }
 ],
 "metadata": {
  "kernelspec": {
   "display_name": "Python 3",
   "language": "python",
   "name": "python3"
  },
  "language_info": {
   "codemirror_mode": {
    "name": "ipython",
    "version": 3
   },
   "file_extension": ".py",
   "mimetype": "text/x-python",
   "name": "python",
   "nbconvert_exporter": "python",
   "pygments_lexer": "ipython3",
   "version": "3.12.4"
  }
 },
 "nbformat": 4,
 "nbformat_minor": 2
}
